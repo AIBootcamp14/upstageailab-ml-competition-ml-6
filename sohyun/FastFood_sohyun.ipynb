{
 "cells": [
  {
   "cell_type": "code",
   "execution_count": null,
   "id": "5b7adecc",
   "metadata": {},
   "outputs": [],
   "source": [
    "!pip install eli5==0.13.0\n",
    "\n",
    "# 한글 폰트 사용을 위한 라이브러리입니다.\n",
    "!apt-get install -y fonts-nanum"
   ]
  },
  {
   "cell_type": "code",
   "execution_count": 9,
   "id": "f5fa4f19",
   "metadata": {},
   "outputs": [],
   "source": [
    "# visualization\n",
    "import matplotlib.pyplot as plt\n",
    "import matplotlib.font_manager as fm\n",
    "fe = fm.FontEntry(\n",
    "    fname=r'/usr/share/fonts/truetype/nanum/NanumGothic.ttf', # ttf 파일이 저장되어 있는 경로\n",
    "    name='NanumBarunGothic')                        # 이 폰트의 원하는 이름 설정\n",
    "fm.fontManager.ttflist.insert(0, fe)              # Matplotlib에 폰트 추가\n",
    "plt.rcParams.update({'font.size': 10, 'font.family': 'NanumBarunGothic'}) # 폰트 설정\n",
    "plt.rc('font', family='NanumBarunGothic')\n",
    "import seaborn as sns\n",
    "\n",
    "# utils\n",
    "import pandas as pd\n",
    "import numpy as np\n",
    "from tqdm import tqdm\n",
    "import pickle\n",
    "import warnings;warnings.filterwarnings('ignore')\n",
    "import os"
   ]
  },
  {
   "cell_type": "code",
   "execution_count": 13,
   "id": "b97f86c1",
   "metadata": {},
   "outputs": [
    {
     "name": "stdout",
     "output_type": "stream",
     "text": [
      "(1465, 44)\n",
      "Index(['개방자치단체코드', '관리번호', '인허가일자', '인허가취소일자', '영업상태코드', '영업상태명', '상세영업상태코드',\n",
      "       '상세영업상태명', '폐업일자', '휴업시작일자', '휴업종료일자', '재개업일자', '전화번호', '소재지면적',\n",
      "       '소재지우편번호', '지번주소', '도로명주소', '도로명우편번호', '사업장명', '최종수정일자', '데이터갱신구분',\n",
      "       '데이터갱신일자', '업태구분명', '좌표정보(X)', '좌표정보(Y)', '위생업태명', '남성종사자수', '여성종사자수',\n",
      "       '영업장주변구분명', '등급구분명', '급수시설구분명', '총인원', '본사종업원수', '공장사무직종업원수',\n",
      "       '공장판매직종업원수', '공장생산직종업원수', '건물소유구분명', '보증액', '월세액', '다중이용업소여부', '시설총규모',\n",
      "       '전통업소지정번호', '전통업소주된음식', '홈페이지'],\n",
      "      dtype='object')\n"
     ]
    }
   ],
   "source": [
    "folder = \"/data/ephemeral/home/upstageailab-ml-competition-ml-6/sohyun/FastFood\"\n",
    "files = [\n",
    "    \"서울시 일반음식점 인허가 정보_롯데리아.xlsx\",\n",
    "    \"서울시 일반음식점 인허가 정보_맘스터치.xlsx\",\n",
    "    \"서울시 일반음식점 인허가 정보_맥도날드.xlsx\",\n",
    "    \"서울시 일반음식점 인허가 정보_버거킹.xlsx\",\n",
    "    \"서울시 일반음식점 인허가 정보_케이에프씨.xlsx\",\n",
    "    \"서울시 휴게음식점 인허가 정보_롯데리아.xlsx\",\n",
    "    \"서울시 휴게음식점 인허가 정보_맘스터치.xlsx\",\n",
    "    \"서울시 휴게음식점 인허가 정보_맥도날드.xlsx\",\n",
    "    \"서울시 휴게음식점 인허가 정보_버거킹.xlsx\",\n",
    "    \"서울시 휴게음식점 인허가 정보_케이에프씨.xlsx\"\n",
    "]\n",
    "\n",
    "df_list = [pd.read_excel(os.path.join(folder, f), engine=\"openpyxl\") for f in files]\n",
    "merged_df = pd.concat(df_list, ignore_index=True)\n",
    "\n",
    "print(merged_df.shape)\n",
    "print(merged_df.columns)"
   ]
  },
  {
   "cell_type": "code",
   "execution_count": 23,
   "id": "4230ebf4",
   "metadata": {},
   "outputs": [
    {
     "name": "stdout",
     "output_type": "stream",
     "text": [
      "                                  도로명주소  도로명우편번호              사업장명  \\\n",
      "0         서울특별시 중구 남대문로 30 (남창동,1층143호)   4529.0          롯데리아남대문점   \n",
      "6   서울특별시 종로구 청계천로 41, 영풍빌딩 지하 2층 (서린동)   3188.0  롯데리아 영풍문고 종각종로본점   \n",
      "10              서울특별시 광진구 면목로 136 (중곡동)   4908.0           롯데리아중곡점   \n",
      "11      서울특별시 성북구 동소문로 2, 1,2층 (동소문동2가)   2860.0     롯데리아(한성대입구역점)   \n",
      "13   서울특별시 노원구 한글비석로 369, 롯데리아 1층 (중계동)   1699.0          롯데리아 상계점   \n",
      "\n",
      "          좌표정보(X)        좌표정보(Y) 영업장주변구분명   시설총규모  \n",
      "0   198095.795196  450940.108370       기타  114.38  \n",
      "6   198351.818737  451921.603026      NaN  191.74  \n",
      "10  207102.532983  451463.082422       기타   99.34  \n",
      "11  200528.744139  454019.178903      NaN  238.30  \n",
      "13  206460.340838  461782.719034      NaN  165.00  \n"
     ]
    }
   ],
   "source": [
    "#'영업/정상' 상태의 데이터 추출 및 저장\n",
    "merged_df = merged_df[merged_df['영업상태명'] == '영업/정상']\n",
    "\n",
    "#필요로 하는 컬럼만 포함하는 새로운 데이터프레임 생성\n",
    "selected_columns = ['도로명주소', '도로명우편번호', '사업장명', '좌표정보(X)', '좌표정보(Y)', '영업장주변구분명', '시설총규모']\n",
    "selected_df = merged_df[selected_columns]\n",
    "\n",
    "print(selected_df.head())"
   ]
  },
  {
   "cell_type": "code",
   "execution_count": 27,
   "id": "9d9a88c0",
   "metadata": {},
   "outputs": [
    {
     "name": "stdout",
     "output_type": "stream",
     "text": [
      "                                  도로명주소  도로명우편번호              사업장명  \\\n",
      "0         서울특별시 중구 남대문로 30 (남창동,1층143호)   4529.0          롯데리아남대문점   \n",
      "6   서울특별시 종로구 청계천로 41, 영풍빌딩 지하 2층 (서린동)   3188.0  롯데리아 영풍문고 종각종로본점   \n",
      "10              서울특별시 광진구 면목로 136 (중곡동)   4908.0           롯데리아중곡점   \n",
      "11      서울특별시 성북구 동소문로 2, 1,2층 (동소문동2가)   2860.0     롯데리아(한성대입구역점)   \n",
      "13   서울특별시 노원구 한글비석로 369, 롯데리아 1층 (중계동)   1699.0          롯데리아 상계점   \n",
      "\n",
      "          좌표정보(X)        좌표정보(Y) 영업장주변구분명   시설총규모   브랜드  \n",
      "0   198095.795196  450940.108370       기타  114.38  롯데리아  \n",
      "6   198351.818737  451921.603026      NaN  191.74  롯데리아  \n",
      "10  207102.532983  451463.082422       기타   99.34  롯데리아  \n",
      "11  200528.744139  454019.178903      NaN  238.30  롯데리아  \n",
      "13  206460.340838  461782.719034      NaN  165.00  롯데리아  \n",
      "맘스터치     189\n",
      "롯데리아     173\n",
      "버거킹      107\n",
      "맥도날드      86\n",
      "케이에프씨     38\n",
      "Name: 브랜드, dtype: int64\n"
     ]
    }
   ],
   "source": [
    "#브랜드 값을 추출하여 새로운 컬럼에 저장\n",
    "def extract_brand(name):\n",
    "    for brand in ['롯데리아', '맘스터치', '맥도날드', '케이에프씨', '버거킹']:\n",
    "        if brand in name:\n",
    "            return brand\n",
    "    return '기타'  # 혹시 모를 예외 처리\n",
    "\n",
    "selected_df['브랜드'] = selected_df['사업장명'].apply(extract_brand)\n",
    "\n",
    "print(selected_df.head())\n",
    "print(selected_df['브랜드'].value_counts())"
   ]
  },
  {
   "cell_type": "code",
   "execution_count": null,
   "id": "c6dc5d2d",
   "metadata": {},
   "outputs": [],
   "source": [
    "import requests\n",
    "import time\n",
    "import csv\n",
    "\n",
    "# 1) 내 네이버 API 키\n",
    "CLIENT_ID     = 'YOUR_CLIENT_ID'\n",
    "CLIENT_SECRET = 'YOUR_CLIENT_SECRET'\n",
    "\n",
    "# 2) 검색 대상 브랜드 리스트\n",
    "brands = ['KFC', '맥도날드', '맘스터치', '롯데리아', '버거킹']\n",
    "\n",
    "# 3) API 엔드포인트\n",
    "URL = 'https://naveropenapi.apigw.ntruss.com/map-place/v1/search'\n",
    "\n",
    "# 4) 헤더 설정\n",
    "headers = {\n",
    "    'X-NCP-APIGW-API-KEY-ID':     ncp_iam_BPAMKR4Is1SWL5u5QCAc,\n",
    "    'X-NCP-APIGW-API-KEY':        ncp_iam_BPKMKR6fETnuLaj58qxsCXr9dkeaK9zAMe\n",
    "}\n",
    "\n",
    "# 5) 결과를 담을 리스트\n",
    "all_locations = []\n",
    "\n",
    "# 6) 브랜드별로 페이지(1~5) 순환하며 수집\n",
    "for brand in brands:\n",
    "    for page in range(1, 6):\n",
    "        params = {\n",
    "            'query': f'{brand} 서울',\n",
    "            'page':  page,\n",
    "            'size':  15   # 한 페이지에 최대 15건까지\n",
    "        }\n",
    "        resp = requests.get(URL, headers=headers, params=params)\n",
    "        resp.raise_for_status()\n",
    "        data = resp.json().get('places', [])\n",
    "        if not data:\n",
    "            break  # 더 이상 결과가 없으면 다음 브랜드로\n",
    "\n",
    "        for place in data:\n",
    "            all_locations.append({\n",
    "                'brand':   brand,\n",
    "                'name':    place.get('name'),\n",
    "                'address': place.get('road_address') or place.get('jibun_address'),\n",
    "                'lng':     place['x'],\n",
    "                'lat':     place['y']\n",
    "            })\n",
    "        time.sleep(0.1)  # 초당 호출 제한 준수\n",
    "\n",
    "# 7) CSV로 저장\n",
    "with open('burger_locations.csv', 'w', newline='', encoding='utf-8-sig') as f:\n",
    "    writer = csv.DictWriter(f, fieldnames=['brand','name','address','lng','lat'])\n",
    "    writer.writeheader()\n",
    "    writer.writerows(all_locations)\n",
    "\n",
    "print(f'수집 완료: 총 {len(all_locations)}개 지점 저장됨.')\n"
   ]
  }
 ],
 "metadata": {
  "kernelspec": {
   "display_name": "base",
   "language": "python",
   "name": "python3"
  },
  "language_info": {
   "codemirror_mode": {
    "name": "ipython",
    "version": 3
   },
   "file_extension": ".py",
   "mimetype": "text/x-python",
   "name": "python",
   "nbconvert_exporter": "python",
   "pygments_lexer": "ipython3",
   "version": "3.10.13"
  }
 },
 "nbformat": 4,
 "nbformat_minor": 5
}
